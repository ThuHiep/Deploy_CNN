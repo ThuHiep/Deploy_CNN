{
 "cells": [
  {
   "cell_type": "markdown",
   "metadata": {
    "id": "view-in-github",
    "colab_type": "text"
   },
   "source": [
    "<a href=\"https://colab.research.google.com/github/Tkag0001/Tutorial_deploy_streamlit_vsc_with_colab_server/blob/main/deploy.ipynb\" target=\"_parent\"><img src=\"https://colab.research.google.com/assets/colab-badge.svg\" alt=\"Open In Colab\"/></a>"
   ]
  },
  {
   "cell_type": "code",
   "source": [
    "import fastapi\n",
    "import numpy as np\n",
    "from pygame.transform import threshold\n",
    "!pip install pyngrok fastapi uvicorn\n",
    "!pip install python-multipart\n",
    "!pip install streamlit"
   ],
   "metadata": {
    "id": "hmskJnGtga0H",
    "ExecuteTime": {
     "end_time": "2025-01-14T13:37:21.669623Z",
     "start_time": "2025-01-14T13:37:10.432127Z"
    }
   },
   "outputs": [
    {
     "name": "stdout",
     "output_type": "stream",
     "text": [
      "pygame 2.6.0 (SDL 2.28.4, Python 3.12.6)\n",
      "Hello from the pygame community. https://www.pygame.org/contribute.html\n",
      "Requirement already satisfied: pyngrok in c:\\users\\dinht\\appdata\\local\\programs\\python\\python312\\lib\\site-packages (7.2.2)\n",
      "Requirement already satisfied: fastapi in c:\\users\\dinht\\appdata\\local\\programs\\python\\python312\\lib\\site-packages (0.115.6)\n",
      "Requirement already satisfied: uvicorn in c:\\users\\dinht\\appdata\\local\\programs\\python\\python312\\lib\\site-packages (0.34.0)\n",
      "Requirement already satisfied: PyYAML>=5.1 in c:\\users\\dinht\\appdata\\local\\programs\\python\\python312\\lib\\site-packages (from pyngrok) (6.0.2)\n",
      "Requirement already satisfied: starlette<0.42.0,>=0.40.0 in c:\\users\\dinht\\appdata\\local\\programs\\python\\python312\\lib\\site-packages (from fastapi) (0.41.3)\n",
      "Requirement already satisfied: pydantic!=1.8,!=1.8.1,!=2.0.0,!=2.0.1,!=2.1.0,<3.0.0,>=1.7.4 in c:\\users\\dinht\\appdata\\local\\programs\\python\\python312\\lib\\site-packages (from fastapi) (2.10.4)\n",
      "Requirement already satisfied: typing-extensions>=4.8.0 in c:\\users\\dinht\\appdata\\local\\programs\\python\\python312\\lib\\site-packages (from fastapi) (4.12.2)\n",
      "Requirement already satisfied: click>=7.0 in c:\\users\\dinht\\appdata\\local\\programs\\python\\python312\\lib\\site-packages (from uvicorn) (8.1.7)\n",
      "Requirement already satisfied: h11>=0.8 in c:\\users\\dinht\\appdata\\local\\programs\\python\\python312\\lib\\site-packages (from uvicorn) (0.14.0)\n",
      "Requirement already satisfied: colorama in c:\\users\\dinht\\appdata\\local\\programs\\python\\python312\\lib\\site-packages (from click>=7.0->uvicorn) (0.4.6)\n",
      "Requirement already satisfied: annotated-types>=0.6.0 in c:\\users\\dinht\\appdata\\local\\programs\\python\\python312\\lib\\site-packages (from pydantic!=1.8,!=1.8.1,!=2.0.0,!=2.0.1,!=2.1.0,<3.0.0,>=1.7.4->fastapi) (0.7.0)\n",
      "Requirement already satisfied: pydantic-core==2.27.2 in c:\\users\\dinht\\appdata\\local\\programs\\python\\python312\\lib\\site-packages (from pydantic!=1.8,!=1.8.1,!=2.0.0,!=2.0.1,!=2.1.0,<3.0.0,>=1.7.4->fastapi) (2.27.2)\n",
      "Requirement already satisfied: anyio<5,>=3.4.0 in c:\\users\\dinht\\appdata\\local\\programs\\python\\python312\\lib\\site-packages (from starlette<0.42.0,>=0.40.0->fastapi) (4.7.0)\n",
      "Requirement already satisfied: idna>=2.8 in c:\\users\\dinht\\appdata\\local\\programs\\python\\python312\\lib\\site-packages (from anyio<5,>=3.4.0->starlette<0.42.0,>=0.40.0->fastapi) (3.10)\n",
      "Requirement already satisfied: sniffio>=1.1 in c:\\users\\dinht\\appdata\\local\\programs\\python\\python312\\lib\\site-packages (from anyio<5,>=3.4.0->starlette<0.42.0,>=0.40.0->fastapi) (1.3.1)\n"
     ]
    },
    {
     "name": "stderr",
     "output_type": "stream",
     "text": [
      "\n",
      "[notice] A new release of pip is available: 24.2 -> 24.3.1\n",
      "[notice] To update, run: python.exe -m pip install --upgrade pip\n"
     ]
    },
    {
     "name": "stdout",
     "output_type": "stream",
     "text": [
      "Requirement already satisfied: python-multipart in c:\\users\\dinht\\appdata\\local\\programs\\python\\python312\\lib\\site-packages (0.0.20)"
     ]
    },
    {
     "name": "stderr",
     "output_type": "stream",
     "text": [
      "\n",
      "[notice] A new release of pip is available: 24.2 -> 24.3.1\n",
      "[notice] To update, run: python.exe -m pip install --upgrade pip\n"
     ]
    },
    {
     "name": "stdout",
     "output_type": "stream",
     "text": [
      "\n",
      "Requirement already satisfied: streamlit in c:\\users\\dinht\\appdata\\local\\programs\\python\\python312\\lib\\site-packages (1.41.1)\n",
      "Requirement already satisfied: altair<6,>=4.0 in c:\\users\\dinht\\appdata\\local\\programs\\python\\python312\\lib\\site-packages (from streamlit) (5.5.0)\n",
      "Requirement already satisfied: blinker<2,>=1.0.0 in c:\\users\\dinht\\appdata\\local\\programs\\python\\python312\\lib\\site-packages (from streamlit) (1.8.2)\n",
      "Requirement already satisfied: cachetools<6,>=4.0 in c:\\users\\dinht\\appdata\\local\\programs\\python\\python312\\lib\\site-packages (from streamlit) (5.5.0)\n",
      "Requirement already satisfied: click<9,>=7.0 in c:\\users\\dinht\\appdata\\local\\programs\\python\\python312\\lib\\site-packages (from streamlit) (8.1.7)\n",
      "Requirement already satisfied: numpy<3,>=1.23 in c:\\users\\dinht\\appdata\\local\\programs\\python\\python312\\lib\\site-packages (from streamlit) (1.26.4)\n",
      "Requirement already satisfied: packaging<25,>=20 in c:\\users\\dinht\\appdata\\local\\programs\\python\\python312\\lib\\site-packages (from streamlit) (24.1)\n",
      "Requirement already satisfied: pandas<3,>=1.4.0 in c:\\users\\dinht\\appdata\\local\\programs\\python\\python312\\lib\\site-packages (from streamlit) (2.2.2)\n",
      "Requirement already satisfied: pillow<12,>=7.1.0 in c:\\users\\dinht\\appdata\\local\\programs\\python\\python312\\lib\\site-packages (from streamlit) (10.4.0)\n",
      "Requirement already satisfied: protobuf<6,>=3.20 in c:\\users\\dinht\\appdata\\local\\programs\\python\\python312\\lib\\site-packages (from streamlit) (4.25.4)\n",
      "Requirement already satisfied: pyarrow>=7.0 in c:\\users\\dinht\\appdata\\local\\programs\\python\\python312\\lib\\site-packages (from streamlit) (18.1.0)\n",
      "Requirement already satisfied: requests<3,>=2.27 in c:\\users\\dinht\\appdata\\local\\programs\\python\\python312\\lib\\site-packages (from streamlit) (2.32.3)\n",
      "Requirement already satisfied: rich<14,>=10.14.0 in c:\\users\\dinht\\appdata\\local\\programs\\python\\python312\\lib\\site-packages (from streamlit) (13.8.1)\n",
      "Requirement already satisfied: tenacity<10,>=8.1.0 in c:\\users\\dinht\\appdata\\local\\programs\\python\\python312\\lib\\site-packages (from streamlit) (9.0.0)\n",
      "Requirement already satisfied: toml<2,>=0.10.1 in c:\\users\\dinht\\appdata\\local\\programs\\python\\python312\\lib\\site-packages (from streamlit) (0.10.2)\n",
      "Requirement already satisfied: typing-extensions<5,>=4.3.0 in c:\\users\\dinht\\appdata\\local\\programs\\python\\python312\\lib\\site-packages (from streamlit) (4.12.2)\n",
      "Requirement already satisfied: watchdog<7,>=2.1.5 in c:\\users\\dinht\\appdata\\local\\programs\\python\\python312\\lib\\site-packages (from streamlit) (6.0.0)\n",
      "Requirement already satisfied: gitpython!=3.1.19,<4,>=3.0.7 in c:\\users\\dinht\\appdata\\local\\programs\\python\\python312\\lib\\site-packages (from streamlit) (3.1.43)\n",
      "Requirement already satisfied: pydeck<1,>=0.8.0b4 in c:\\users\\dinht\\appdata\\local\\programs\\python\\python312\\lib\\site-packages (from streamlit) (0.9.1)\n",
      "Requirement already satisfied: tornado<7,>=6.0.3 in c:\\users\\dinht\\appdata\\local\\programs\\python\\python312\\lib\\site-packages (from streamlit) (6.4.1)\n",
      "Requirement already satisfied: jinja2 in c:\\users\\dinht\\appdata\\local\\programs\\python\\python312\\lib\\site-packages (from altair<6,>=4.0->streamlit) (3.1.4)\n",
      "Requirement already satisfied: jsonschema>=3.0 in c:\\users\\dinht\\appdata\\local\\programs\\python\\python312\\lib\\site-packages (from altair<6,>=4.0->streamlit) (4.23.0)\n",
      "Requirement already satisfied: narwhals>=1.14.2 in c:\\users\\dinht\\appdata\\local\\programs\\python\\python312\\lib\\site-packages (from altair<6,>=4.0->streamlit) (1.20.1)\n",
      "Requirement already satisfied: colorama in c:\\users\\dinht\\appdata\\local\\programs\\python\\python312\\lib\\site-packages (from click<9,>=7.0->streamlit) (0.4.6)\n",
      "Requirement already satisfied: gitdb<5,>=4.0.1 in c:\\users\\dinht\\appdata\\local\\programs\\python\\python312\\lib\\site-packages (from gitpython!=3.1.19,<4,>=3.0.7->streamlit) (4.0.11)\n",
      "Requirement already satisfied: python-dateutil>=2.8.2 in c:\\users\\dinht\\appdata\\local\\programs\\python\\python312\\lib\\site-packages (from pandas<3,>=1.4.0->streamlit) (2.9.0.post0)\n",
      "Requirement already satisfied: pytz>=2020.1 in c:\\users\\dinht\\appdata\\local\\programs\\python\\python312\\lib\\site-packages (from pandas<3,>=1.4.0->streamlit) (2024.2)\n",
      "Requirement already satisfied: tzdata>=2022.7 in c:\\users\\dinht\\appdata\\local\\programs\\python\\python312\\lib\\site-packages (from pandas<3,>=1.4.0->streamlit) (2024.1)\n",
      "Requirement already satisfied: charset-normalizer<4,>=2 in c:\\users\\dinht\\appdata\\local\\programs\\python\\python312\\lib\\site-packages (from requests<3,>=2.27->streamlit) (3.3.2)\n",
      "Requirement already satisfied: idna<4,>=2.5 in c:\\users\\dinht\\appdata\\local\\programs\\python\\python312\\lib\\site-packages (from requests<3,>=2.27->streamlit) (3.10)\n",
      "Requirement already satisfied: urllib3<3,>=1.21.1 in c:\\users\\dinht\\appdata\\local\\programs\\python\\python312\\lib\\site-packages (from requests<3,>=2.27->streamlit) (2.2.3)\n",
      "Requirement already satisfied: certifi>=2017.4.17 in c:\\users\\dinht\\appdata\\local\\programs\\python\\python312\\lib\\site-packages (from requests<3,>=2.27->streamlit) (2024.8.30)\n",
      "Requirement already satisfied: markdown-it-py>=2.2.0 in c:\\users\\dinht\\appdata\\local\\programs\\python\\python312\\lib\\site-packages (from rich<14,>=10.14.0->streamlit) (3.0.0)\n",
      "Requirement already satisfied: pygments<3.0.0,>=2.13.0 in c:\\users\\dinht\\appdata\\local\\programs\\python\\python312\\lib\\site-packages (from rich<14,>=10.14.0->streamlit) (2.18.0)\n",
      "Requirement already satisfied: smmap<6,>=3.0.1 in c:\\users\\dinht\\appdata\\local\\programs\\python\\python312\\lib\\site-packages (from gitdb<5,>=4.0.1->gitpython!=3.1.19,<4,>=3.0.7->streamlit) (5.0.1)\n",
      "Requirement already satisfied: MarkupSafe>=2.0 in c:\\users\\dinht\\appdata\\local\\programs\\python\\python312\\lib\\site-packages (from jinja2->altair<6,>=4.0->streamlit) (2.1.5)\n",
      "Requirement already satisfied: attrs>=22.2.0 in c:\\users\\dinht\\appdata\\local\\programs\\python\\python312\\lib\\site-packages (from jsonschema>=3.0->altair<6,>=4.0->streamlit) (24.2.0)\n",
      "Requirement already satisfied: jsonschema-specifications>=2023.03.6 in c:\\users\\dinht\\appdata\\local\\programs\\python\\python312\\lib\\site-packages (from jsonschema>=3.0->altair<6,>=4.0->streamlit) (2024.10.1)\n",
      "Requirement already satisfied: referencing>=0.28.4 in c:\\users\\dinht\\appdata\\local\\programs\\python\\python312\\lib\\site-packages (from jsonschema>=3.0->altair<6,>=4.0->streamlit) (0.35.1)\n",
      "Requirement already satisfied: rpds-py>=0.7.1 in c:\\users\\dinht\\appdata\\local\\programs\\python\\python312\\lib\\site-packages (from jsonschema>=3.0->altair<6,>=4.0->streamlit) (0.22.3)\n",
      "Requirement already satisfied: mdurl~=0.1 in c:\\users\\dinht\\appdata\\local\\programs\\python\\python312\\lib\\site-packages (from markdown-it-py>=2.2.0->rich<14,>=10.14.0->streamlit) (0.1.2)\n",
      "Requirement already satisfied: six>=1.5 in c:\\users\\dinht\\appdata\\local\\programs\\python\\python312\\lib\\site-packages (from python-dateutil>=2.8.2->pandas<3,>=1.4.0->streamlit) (1.16.0)\n"
     ]
    },
    {
     "name": "stderr",
     "output_type": "stream",
     "text": [
      "\n",
      "[notice] A new release of pip is available: 24.2 -> 24.3.1\n",
      "[notice] To update, run: python.exe -m pip install --upgrade pip\n"
     ]
    }
   ],
   "execution_count": 1
  },
  {
   "cell_type": "code",
   "metadata": {
    "id": "RCeVuEebgYqC",
    "ExecuteTime": {
     "end_time": "2025-01-14T13:46:27.437966Z",
     "start_time": "2025-01-14T13:46:27.132658Z"
    }
   },
   "source": [
    "import os\n",
    "import threading\n",
    "import socket\n",
    "from pyngrok import ngrok, conf\n",
    "from fastapi import FastAPI\n",
    "import uvicorn\n",
    "from fastapi import File, UploadFile, HTTPException\n",
    "from tensorflow.keras.models import load_model\n",
    "from tensorflow.keras.preprocessing.image import img_to_array, load_img\n",
    "from fastapi.responses import JSONResponse\n",
    "import numpy as np"
   ],
   "outputs": [],
   "execution_count": 10
  },
  {
   "metadata": {},
   "cell_type": "markdown",
   "source": "# Load model\n"
  },
  {
   "metadata": {},
   "cell_type": "code",
   "outputs": [],
   "execution_count": null,
   "source": ""
  },
  {
   "metadata": {
    "ExecuteTime": {
     "end_time": "2025-01-14T13:44:47.378606Z",
     "start_time": "2025-01-14T13:44:47.366646Z"
    }
   },
   "cell_type": "code",
   "source": "labels = ['metal', 'white-glass', 'biological', 'paper', 'brown-glass', 'battery', 'trash', 'cardboard', 'shoes', 'clothes', 'plastic', 'green-glass']",
   "outputs": [],
   "execution_count": 2
  },
  {
   "metadata": {
    "ExecuteTime": {
     "end_time": "2025-01-14T13:44:49.991888Z",
     "start_time": "2025-01-14T13:44:49.978183Z"
    }
   },
   "cell_type": "code",
   "source": "model_path = \"./alexnet_model_highest_accuracy.keras\"\n",
   "outputs": [],
   "execution_count": 3
  },
  {
   "metadata": {
    "ExecuteTime": {
     "end_time": "2025-01-14T13:44:58.568865Z",
     "start_time": "2025-01-14T13:44:52.877911Z"
    }
   },
   "cell_type": "code",
   "source": "model_high_accuracy_alexnet = load_model(model_path)",
   "outputs": [],
   "execution_count": 4
  },
  {
   "metadata": {
    "ExecuteTime": {
     "end_time": "2025-01-14T13:45:03.592568Z",
     "start_time": "2025-01-14T13:45:03.578247Z"
    }
   },
   "cell_type": "code",
   "source": "input_shape=(224, 224, 3)",
   "outputs": [],
   "execution_count": 6
  },
  {
   "metadata": {
    "ExecuteTime": {
     "end_time": "2025-01-14T13:45:01.934697Z",
     "start_time": "2025-01-14T13:45:01.928187Z"
    }
   },
   "cell_type": "code",
   "source": "threshold = 0.5 #t lệ ngưỡng xác nhận thành công hay không",
   "outputs": [],
   "execution_count": 5
  },
  {
   "cell_type": "markdown",
   "metadata": {
    "id": "g2MKGXvGgYqE"
   },
   "source": [
    "# Init deploy process"
   ]
  },
  {
   "cell_type": "code",
   "metadata": {
    "id": "uRPbUvP8gYqF",
    "ExecuteTime": {
     "end_time": "2025-01-14T13:45:06.140077Z",
     "start_time": "2025-01-14T13:45:06.125413Z"
    }
   },
   "source": "your_token =\"2qyvibdjnlQbKUzmeaQuoivu33Z_25ck2P5Wk5koVmA1PPv9x\" # Input your token",
   "outputs": [],
   "execution_count": 7
  },
  {
   "metadata": {
    "ExecuteTime": {
     "end_time": "2025-01-14T13:45:11.155856Z",
     "start_time": "2025-01-14T13:45:08.123966Z"
    }
   },
   "cell_type": "code",
   "source": [
    "import os\n",
    "# Set your ngrok auth token\n",
    "print(\"Enter your authtoken, which can be copied from https://dashboard.ngrok.com/get-started/your-authtoken\")\n",
    "os.system(f\"ngrok config add-authtoken {your_token}\")\n",
    "\n",
    "# Initialize FastAPI app\n",
    "app = FastAPI()\n",
    "\n",
    "# Start Streamlit server on a specific port\n",
    "# !nohup streamlit run app.py --server.port 8000 &\n",
    "\n",
    "# Open an ngrok tunnel to the HTTP server\n",
    "port = 8080  # Default FastAPI/uvicorn port\n",
    "public_url = ngrok.connect(port).public_url\n",
    "print(f\" * ngrok tunnel \\\"{public_url}\\\" -> \\\"http://127.0.0.1:{port}/\\\"\")"
   ],
   "outputs": [
    {
     "name": "stdout",
     "output_type": "stream",
     "text": [
      "Enter your authtoken, which can be copied from https://dashboard.ngrok.com/get-started/your-authtoken\n",
      " * ngrok tunnel \"https://3e64-2001-ee0-4fee-91d0-743f-4f9d-526c-9c8b.ngrok-free.app\" -> \"http://127.0.0.1:8080/\"\n"
     ]
    }
   ],
   "execution_count": 8
  },
  {
   "cell_type": "code",
   "metadata": {
    "id": "h_MljbJdgYqF",
    "ExecuteTime": {
     "end_time": "2025-01-14T13:45:18.833695Z",
     "start_time": "2025-01-14T13:45:18.446114Z"
    }
   },
   "source": [
    "app = FastAPI()\n",
    "server_thread = None\n",
    "server = None\n",
    "# Comment to test deploy streamlit\n",
    "# Define FastAPI routes\n",
    "@app.get(\"/\")\n",
    "async def index():\n",
    "    hostname = socket.gethostname()\n",
    "    return {\"message\": \"Hello from Colab!\", \"hostname\": hostname}\n",
    "\n",
    "@app.get(\"/hello/{name}\")\n",
    "async def say_hello(name: str):\n",
    "    return {\"message\": f\"Hello, {name}!\"}\n",
    "# ////////////////////////////////////\n",
    "# Lấy danh sách tất cả các item\n",
    "array = [1,2,3]\n",
    "\n",
    "@app.get(\"/items/\",status_code=404)\n",
    "async def get_items():\n",
    "    return {\"message\": array}\n",
    "\n",
    "# Lấy thông tin chi tiết của một item theo ID\n",
    "@app.get(\"/items/{item_id}\")\n",
    "async def get_item(item_id: int):\n",
    "    return {\"item_id\": item_id, \"message\": \"Thông tin item\"}\n",
    "\n",
    "\n",
    "@app.post(\"/test_post/\")\n",
    "async def post_items(img: UploadFile = File(...)):\n",
    "    try:\n",
    "        content = await img.read()\n",
    "        with open(\"temp_img.jpg\", \"wb\") as f:\n",
    "            f.write(content)\n",
    "            \n",
    "        # Load và tiền xử lý ảnh\n",
    "        # Load anh thành dạng có kích thước 224x224\n",
    "        image = load_img(\"temp_img.jpg\", target_size=input_shape)\n",
    "        # chuyển image sang dạng ma trận\n",
    "        image_array = img_to_array(image)\n",
    "        \n",
    "        image_array = np.expand_dims(image_array, axis=0)\n",
    "        # du doan bằng mô hình xem có hoạt động hay không\n",
    "        prediction = model_high_accuracy_alexnet.predict(image_array)\n",
    "        labels_index = np.argmax(prediction, axis=1)[0]\n",
    "        confident = float(np.max(prediction))\n",
    "        label = labels[labels_index]\n",
    "        if confident > threshold:\n",
    "            return {\"message\": \"THÀNH CÔNG\", \"label\": label, \"confident\": confident}\n",
    "        else:\n",
    "            raise HTTPException(\n",
    "                status_code=400,\n",
    "                detail={\"error\": \"Xác định không thành công, dưỡng ngưỡng choi phép\", \"confident\": confident}\n",
    "            )\n",
    "    except Exception as e:\n",
    "        # Trả về lỗi JSON trong trường hợp lỗi không mong đợi\n",
    "        return JSONResponse(\n",
    "            content={\"error\": \"An unexpected error occurred\", \"details\": str(e)},\n",
    "            status_code=500\n",
    "        )\n",
    "# Start FastAPI server in a separate thread using uvicorn\n",
    "# def start_uvicorn():\n",
    "#     uvicorn.run(app, host=\"0.0.0.0\", port=port)\n",
    "# \n",
    "# threading.Thread(target=start_uvicorn, daemon=True).start()\n",
    "# Start the Uvicorn server\n",
    "def start_server():\n",
    "    global server\n",
    "    config = uvicorn.Config(app, host=\"127.0.0.1\", port=port)\n",
    "    server = uvicorn.Server(config)\n",
    "    server.run()\n",
    "\n",
    "# Stop the Uvicorn server\n",
    "def stop_server():\n",
    "    global server\n",
    "    if server and not server.should_exit:\n",
    "        server.should_exit = True\n",
    "\n",
    "# Restart the server\n",
    "def restart_server():\n",
    "    global server_thread\n",
    "    if server_thread and server_thread.is_alive():\n",
    "        stop_server()\n",
    "        server_thread.join()\n",
    "    server_thread = threading.Thread(target=start_server, daemon=True)\n",
    "    server_thread.start()\n",
    "\n",
    "# Start the server for the first time\n",
    "restart_server()"
   ],
   "outputs": [],
   "execution_count": 9
  },
  {
   "metadata": {},
   "cell_type": "code",
   "outputs": [],
   "execution_count": null,
   "source": ""
  }
 ],
 "metadata": {
  "kernelspec": {
   "display_name": "Python 3 (ipykernel)",
   "language": "python",
   "name": "python3"
  },
  "language_info": {
   "codemirror_mode": {
    "name": "ipython",
    "version": 3
   },
   "file_extension": ".py",
   "mimetype": "text/x-python",
   "name": "python",
   "nbconvert_exporter": "python",
   "pygments_lexer": "ipython3",
   "version": "3.10.12"
  },
  "colab": {
   "provenance": [],
   "include_colab_link": true
  }
 },
 "nbformat": 4,
 "nbformat_minor": 0
}
